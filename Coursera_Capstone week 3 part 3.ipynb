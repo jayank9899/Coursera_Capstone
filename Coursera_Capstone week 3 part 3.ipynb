{
 "cells": [
  {
   "cell_type": "markdown",
   "metadata": {},
   "source": [
    "# Peer-graded Assignment: Week 3 Part 3\n",
    "\n",
    "### For Capstone Project"
   ]
  },
  {
   "cell_type": "markdown",
   "metadata": {},
   "source": [
    "### 1. Setting up the environment"
   ]
  },
  {
   "cell_type": "code",
   "execution_count": 1,
   "metadata": {},
   "outputs": [
    {
     "name": "stdout",
     "output_type": "stream",
     "text": [
      "Libraries imported.\n"
     ]
    }
   ],
   "source": [
    "import numpy as np\n",
    "import pandas as pd\n",
    "pd.set_option('display.max_columns', None)\n",
    "pd.set_option('display.max_rows', None)\n",
    "\n",
    "import json\n",
    "\n",
    "#!conda install -c conda-forge geopy --yes\n",
    "from geopy.geocoders import Nominatim\n",
    "\n",
    "from bs4 import BeautifulSoup\n",
    "from urllib.request import urlopen\n",
    "import requests\n",
    "from pandas.io.json import json_normalize\n",
    "\n",
    "import matplotlib.cm as cm\n",
    "import matplotlib.colors as colors\n",
    "\n",
    "from sklearn.cluster import KMeans\n",
    "\n",
    "#!conda install -c conda-forge folium=0.5.0 --yes\n",
    "import folium\n",
    "\n",
    "print('Libraries imported.')"
   ]
  },
  {
   "cell_type": "markdown",
   "metadata": {},
   "source": [
    "### 2. Parsing the html"
   ]
  },
  {
   "cell_type": "code",
   "execution_count": 2,
   "metadata": {},
   "outputs": [],
   "source": [
    "url = 'https://en.wikipedia.org/wiki/List_of_postal_codes_of_Canada:_M'\n",
    "page = urlopen(url).read().decode('utf-8')\n",
    "soup = BeautifulSoup(page, 'html.parser')\n",
    "\n",
    "wiki_table = soup.body.table.tbody"
   ]
  },
  {
   "cell_type": "markdown",
   "metadata": {},
   "source": [
    "### 3. Extracting data from the table to the data frame"
   ]
  },
  {
   "cell_type": "code",
   "execution_count": 3,
   "metadata": {},
   "outputs": [],
   "source": [
    "def get_cell(element):\n",
    "    cells = element.find_all('td')\n",
    "    row = []\n",
    "    \n",
    "    for cell in cells:\n",
    "        if cell.a:            \n",
    "            if (cell.a.text):\n",
    "                row.append(cell.a.text)\n",
    "                continue\n",
    "        row.append(cell.string.strip())\n",
    "        \n",
    "    return row"
   ]
  },
  {
   "cell_type": "code",
   "execution_count": 4,
   "metadata": {},
   "outputs": [],
   "source": [
    "def get_row():    \n",
    "    data = []  \n",
    "    \n",
    "    for tr in wiki_table.find_all('tr'):\n",
    "        row = get_cell(tr)\n",
    "        if len(row) != 3:\n",
    "            continue\n",
    "        data.append(row)        \n",
    "    \n",
    "    return data"
   ]
  },
  {
   "cell_type": "code",
   "execution_count": 5,
   "metadata": {},
   "outputs": [
    {
     "data": {
      "text/html": [
       "<div>\n",
       "<style scoped>\n",
       "    .dataframe tbody tr th:only-of-type {\n",
       "        vertical-align: middle;\n",
       "    }\n",
       "\n",
       "    .dataframe tbody tr th {\n",
       "        vertical-align: top;\n",
       "    }\n",
       "\n",
       "    .dataframe thead th {\n",
       "        text-align: right;\n",
       "    }\n",
       "</style>\n",
       "<table border=\"1\" class=\"dataframe\">\n",
       "  <thead>\n",
       "    <tr style=\"text-align: right;\">\n",
       "      <th></th>\n",
       "      <th>Postcode</th>\n",
       "      <th>Borough</th>\n",
       "      <th>Neighbourhood</th>\n",
       "    </tr>\n",
       "  </thead>\n",
       "  <tbody>\n",
       "    <tr>\n",
       "      <th>0</th>\n",
       "      <td>M1A</td>\n",
       "      <td>Not assigned</td>\n",
       "      <td>Not assigned</td>\n",
       "    </tr>\n",
       "    <tr>\n",
       "      <th>1</th>\n",
       "      <td>M2A</td>\n",
       "      <td>Not assigned</td>\n",
       "      <td>Not assigned</td>\n",
       "    </tr>\n",
       "    <tr>\n",
       "      <th>2</th>\n",
       "      <td>M3A</td>\n",
       "      <td>North York</td>\n",
       "      <td>Parkwoods</td>\n",
       "    </tr>\n",
       "    <tr>\n",
       "      <th>3</th>\n",
       "      <td>M4A</td>\n",
       "      <td>North York</td>\n",
       "      <td>Victoria Village</td>\n",
       "    </tr>\n",
       "    <tr>\n",
       "      <th>4</th>\n",
       "      <td>M5A</td>\n",
       "      <td>Downtown Toronto</td>\n",
       "      <td>Harbourfront</td>\n",
       "    </tr>\n",
       "  </tbody>\n",
       "</table>\n",
       "</div>"
      ],
      "text/plain": [
       "  Postcode           Borough     Neighbourhood\n",
       "0      M1A      Not assigned      Not assigned\n",
       "1      M2A      Not assigned      Not assigned\n",
       "2      M3A        North York         Parkwoods\n",
       "3      M4A        North York  Victoria Village\n",
       "4      M5A  Downtown Toronto      Harbourfront"
      ]
     },
     "execution_count": 5,
     "metadata": {},
     "output_type": "execute_result"
    }
   ],
   "source": [
    "data = get_row()\n",
    "columns = ['Postcode', 'Borough', 'Neighbourhood']\n",
    "df = pd.DataFrame(data, columns=columns)\n",
    "df.head()"
   ]
  },
  {
   "cell_type": "code",
   "execution_count": 6,
   "metadata": {},
   "outputs": [
    {
     "data": {
      "text/plain": [
       "(288, 3)"
      ]
     },
     "execution_count": 6,
     "metadata": {},
     "output_type": "execute_result"
    }
   ],
   "source": [
    "df.shape"
   ]
  },
  {
   "cell_type": "markdown",
   "metadata": {},
   "source": [
    "### 4. Cleaning the data"
   ]
  },
  {
   "cell_type": "code",
   "execution_count": 7,
   "metadata": {},
   "outputs": [
    {
     "data": {
      "text/html": [
       "<div>\n",
       "<style scoped>\n",
       "    .dataframe tbody tr th:only-of-type {\n",
       "        vertical-align: middle;\n",
       "    }\n",
       "\n",
       "    .dataframe tbody tr th {\n",
       "        vertical-align: top;\n",
       "    }\n",
       "\n",
       "    .dataframe thead th {\n",
       "        text-align: right;\n",
       "    }\n",
       "</style>\n",
       "<table border=\"1\" class=\"dataframe\">\n",
       "  <thead>\n",
       "    <tr style=\"text-align: right;\">\n",
       "      <th></th>\n",
       "      <th>Postcode</th>\n",
       "      <th>Borough</th>\n",
       "      <th>Neighbourhood</th>\n",
       "    </tr>\n",
       "  </thead>\n",
       "  <tbody>\n",
       "    <tr>\n",
       "      <th>0</th>\n",
       "      <td>M1B</td>\n",
       "      <td>Scarborough</td>\n",
       "      <td>Rouge</td>\n",
       "    </tr>\n",
       "    <tr>\n",
       "      <th>1</th>\n",
       "      <td>M1B</td>\n",
       "      <td>Scarborough</td>\n",
       "      <td>Malvern</td>\n",
       "    </tr>\n",
       "    <tr>\n",
       "      <th>2</th>\n",
       "      <td>M1C</td>\n",
       "      <td>Scarborough</td>\n",
       "      <td>Highland Creek</td>\n",
       "    </tr>\n",
       "    <tr>\n",
       "      <th>3</th>\n",
       "      <td>M1C</td>\n",
       "      <td>Scarborough</td>\n",
       "      <td>Rouge Hill</td>\n",
       "    </tr>\n",
       "    <tr>\n",
       "      <th>4</th>\n",
       "      <td>M1C</td>\n",
       "      <td>Scarborough</td>\n",
       "      <td>Port Union</td>\n",
       "    </tr>\n",
       "  </tbody>\n",
       "</table>\n",
       "</div>"
      ],
      "text/plain": [
       "  Postcode      Borough   Neighbourhood\n",
       "0      M1B  Scarborough           Rouge\n",
       "1      M1B  Scarborough         Malvern\n",
       "2      M1C  Scarborough  Highland Creek\n",
       "3      M1C  Scarborough      Rouge Hill\n",
       "4      M1C  Scarborough      Port Union"
      ]
     },
     "execution_count": 7,
     "metadata": {},
     "output_type": "execute_result"
    }
   ],
   "source": [
    "df1 = df[df.Borough != 'Not assigned']\n",
    "df1 = df1.sort_values(by=['Postcode','Borough'])\n",
    "\n",
    "df1.reset_index(inplace=True)\n",
    "df1.drop('index',axis=1,inplace=True)\n",
    "\n",
    "df1.head()"
   ]
  },
  {
   "cell_type": "code",
   "execution_count": 8,
   "metadata": {},
   "outputs": [],
   "source": [
    "df_postcodes = df1['Postcode']\n",
    "df_postcodes.drop_duplicates(inplace=True)\n",
    "df2 = pd.DataFrame(df_postcodes)\n",
    "df2['Borough'] = '';\n",
    "df2['Neighbourhood'] = '';\n",
    "\n",
    "\n",
    "df2.reset_index(inplace=True)\n",
    "df2.drop('index', axis=1, inplace=True)\n",
    "df1.reset_index(inplace=True)\n",
    "df1.drop('index', axis=1, inplace=True)\n",
    "\n",
    "for i in df2.index:\n",
    "    for j in df1.index:\n",
    "        if df2.iloc[i, 0] == df1.iloc[j, 0]:\n",
    "            df2.iloc[i, 1] = df1.iloc[j, 1]\n",
    "            df2.iloc[i, 2] = df2.iloc[i, 2] + ',' + df1.iloc[j, 2]\n",
    "            \n",
    "for i in df2.index:\n",
    "    s = df2.iloc[i, 2]\n",
    "    if s[0] == ',':\n",
    "        s =s [1:]\n",
    "    df2.iloc[i,2 ] = s"
   ]
  },
  {
   "cell_type": "code",
   "execution_count": 9,
   "metadata": {},
   "outputs": [
    {
     "data": {
      "text/plain": [
       "(103, 3)"
      ]
     },
     "execution_count": 9,
     "metadata": {},
     "output_type": "execute_result"
    }
   ],
   "source": [
    "df2.shape"
   ]
  },
  {
   "cell_type": "markdown",
   "metadata": {},
   "source": [
    "### 5. Adding the geospatial data to the data frame"
   ]
  },
  {
   "cell_type": "code",
   "execution_count": 10,
   "metadata": {},
   "outputs": [
    {
     "data": {
      "text/html": [
       "<div>\n",
       "<style scoped>\n",
       "    .dataframe tbody tr th:only-of-type {\n",
       "        vertical-align: middle;\n",
       "    }\n",
       "\n",
       "    .dataframe tbody tr th {\n",
       "        vertical-align: top;\n",
       "    }\n",
       "\n",
       "    .dataframe thead th {\n",
       "        text-align: right;\n",
       "    }\n",
       "</style>\n",
       "<table border=\"1\" class=\"dataframe\">\n",
       "  <thead>\n",
       "    <tr style=\"text-align: right;\">\n",
       "      <th></th>\n",
       "      <th>Postal Code</th>\n",
       "      <th>Latitude</th>\n",
       "      <th>Longitude</th>\n",
       "    </tr>\n",
       "  </thead>\n",
       "  <tbody>\n",
       "    <tr>\n",
       "      <th>0</th>\n",
       "      <td>M1B</td>\n",
       "      <td>43.806686</td>\n",
       "      <td>-79.194353</td>\n",
       "    </tr>\n",
       "    <tr>\n",
       "      <th>1</th>\n",
       "      <td>M1C</td>\n",
       "      <td>43.784535</td>\n",
       "      <td>-79.160497</td>\n",
       "    </tr>\n",
       "    <tr>\n",
       "      <th>2</th>\n",
       "      <td>M1E</td>\n",
       "      <td>43.763573</td>\n",
       "      <td>-79.188711</td>\n",
       "    </tr>\n",
       "    <tr>\n",
       "      <th>3</th>\n",
       "      <td>M1G</td>\n",
       "      <td>43.770992</td>\n",
       "      <td>-79.216917</td>\n",
       "    </tr>\n",
       "    <tr>\n",
       "      <th>4</th>\n",
       "      <td>M1H</td>\n",
       "      <td>43.773136</td>\n",
       "      <td>-79.239476</td>\n",
       "    </tr>\n",
       "  </tbody>\n",
       "</table>\n",
       "</div>"
      ],
      "text/plain": [
       "  Postal Code   Latitude  Longitude\n",
       "0         M1B  43.806686 -79.194353\n",
       "1         M1C  43.784535 -79.160497\n",
       "2         M1E  43.763573 -79.188711\n",
       "3         M1G  43.770992 -79.216917\n",
       "4         M1H  43.773136 -79.239476"
      ]
     },
     "execution_count": 10,
     "metadata": {},
     "output_type": "execute_result"
    }
   ],
   "source": [
    "df2['Latitude'] = '0';\n",
    "df2['Longitude'] = '0';\n",
    "\n",
    "df_geo = pd.read_csv('Geospatial_Coordinates.csv')\n",
    "df_geo.head()"
   ]
  },
  {
   "cell_type": "code",
   "execution_count": 11,
   "metadata": {},
   "outputs": [
    {
     "data": {
      "text/html": [
       "<div>\n",
       "<style scoped>\n",
       "    .dataframe tbody tr th:only-of-type {\n",
       "        vertical-align: middle;\n",
       "    }\n",
       "\n",
       "    .dataframe tbody tr th {\n",
       "        vertical-align: top;\n",
       "    }\n",
       "\n",
       "    .dataframe thead th {\n",
       "        text-align: right;\n",
       "    }\n",
       "</style>\n",
       "<table border=\"1\" class=\"dataframe\">\n",
       "  <thead>\n",
       "    <tr style=\"text-align: right;\">\n",
       "      <th></th>\n",
       "      <th>Postcode</th>\n",
       "      <th>Borough</th>\n",
       "      <th>Neighbourhood</th>\n",
       "      <th>Latitude</th>\n",
       "      <th>Longitude</th>\n",
       "    </tr>\n",
       "  </thead>\n",
       "  <tbody>\n",
       "    <tr>\n",
       "      <th>0</th>\n",
       "      <td>M1B</td>\n",
       "      <td>Scarborough</td>\n",
       "      <td>Rouge,Malvern</td>\n",
       "      <td>43.8067</td>\n",
       "      <td>-79.1944</td>\n",
       "    </tr>\n",
       "    <tr>\n",
       "      <th>1</th>\n",
       "      <td>M1C</td>\n",
       "      <td>Scarborough</td>\n",
       "      <td>Highland Creek,Rouge Hill,Port Union</td>\n",
       "      <td>43.7845</td>\n",
       "      <td>-79.1605</td>\n",
       "    </tr>\n",
       "    <tr>\n",
       "      <th>2</th>\n",
       "      <td>M1E</td>\n",
       "      <td>Scarborough</td>\n",
       "      <td>Guildwood,Morningside,West Hill</td>\n",
       "      <td>43.7636</td>\n",
       "      <td>-79.1887</td>\n",
       "    </tr>\n",
       "    <tr>\n",
       "      <th>3</th>\n",
       "      <td>M1G</td>\n",
       "      <td>Scarborough</td>\n",
       "      <td>Woburn</td>\n",
       "      <td>43.771</td>\n",
       "      <td>-79.2169</td>\n",
       "    </tr>\n",
       "    <tr>\n",
       "      <th>4</th>\n",
       "      <td>M1H</td>\n",
       "      <td>Scarborough</td>\n",
       "      <td>Cedarbrae</td>\n",
       "      <td>43.7731</td>\n",
       "      <td>-79.2395</td>\n",
       "    </tr>\n",
       "  </tbody>\n",
       "</table>\n",
       "</div>"
      ],
      "text/plain": [
       "  Postcode      Borough                         Neighbourhood Latitude  \\\n",
       "0      M1B  Scarborough                         Rouge,Malvern  43.8067   \n",
       "1      M1C  Scarborough  Highland Creek,Rouge Hill,Port Union  43.7845   \n",
       "2      M1E  Scarborough       Guildwood,Morningside,West Hill  43.7636   \n",
       "3      M1G  Scarborough                                Woburn   43.771   \n",
       "4      M1H  Scarborough                             Cedarbrae  43.7731   \n",
       "\n",
       "  Longitude  \n",
       "0  -79.1944  \n",
       "1  -79.1605  \n",
       "2  -79.1887  \n",
       "3  -79.2169  \n",
       "4  -79.2395  "
      ]
     },
     "execution_count": 11,
     "metadata": {},
     "output_type": "execute_result"
    }
   ],
   "source": [
    "for i in df2.index:\n",
    "    for j in df_geo.index:\n",
    "        if df2.iloc[i, 0] == df_geo.iloc[j, 0]:\n",
    "            df2.iloc[i, 3] = df_geo.iloc[j, 1]\n",
    "            df2.iloc[i, 4] = df_geo.iloc[j, 2]\n",
    "            \n",
    "df2.head()"
   ]
  },
  {
   "cell_type": "markdown",
   "metadata": {},
   "source": [
    "### 6. Clustering the neighborhoods in Toronto"
   ]
  },
  {
   "cell_type": "code",
   "execution_count": 12,
   "metadata": {},
   "outputs": [
    {
     "data": {
      "text/html": [
       "<div>\n",
       "<style scoped>\n",
       "    .dataframe tbody tr th:only-of-type {\n",
       "        vertical-align: middle;\n",
       "    }\n",
       "\n",
       "    .dataframe tbody tr th {\n",
       "        vertical-align: top;\n",
       "    }\n",
       "\n",
       "    .dataframe thead th {\n",
       "        text-align: right;\n",
       "    }\n",
       "</style>\n",
       "<table border=\"1\" class=\"dataframe\">\n",
       "  <thead>\n",
       "    <tr style=\"text-align: right;\">\n",
       "      <th></th>\n",
       "      <th>Postcode</th>\n",
       "      <th>Borough</th>\n",
       "      <th>Neighbourhood</th>\n",
       "      <th>Latitude</th>\n",
       "      <th>Longitude</th>\n",
       "    </tr>\n",
       "  </thead>\n",
       "  <tbody>\n",
       "    <tr>\n",
       "      <th>37</th>\n",
       "      <td>M4E</td>\n",
       "      <td>East Toronto</td>\n",
       "      <td>The Beaches</td>\n",
       "      <td>43.6764</td>\n",
       "      <td>-79.293</td>\n",
       "    </tr>\n",
       "    <tr>\n",
       "      <th>41</th>\n",
       "      <td>M4K</td>\n",
       "      <td>East Toronto</td>\n",
       "      <td>The Danforth West,Riverdale</td>\n",
       "      <td>43.6796</td>\n",
       "      <td>-79.3522</td>\n",
       "    </tr>\n",
       "    <tr>\n",
       "      <th>42</th>\n",
       "      <td>M4L</td>\n",
       "      <td>East Toronto</td>\n",
       "      <td>The Beaches West,India Bazaar</td>\n",
       "      <td>43.669</td>\n",
       "      <td>-79.3156</td>\n",
       "    </tr>\n",
       "    <tr>\n",
       "      <th>43</th>\n",
       "      <td>M4M</td>\n",
       "      <td>East Toronto</td>\n",
       "      <td>Studio District</td>\n",
       "      <td>43.6595</td>\n",
       "      <td>-79.3409</td>\n",
       "    </tr>\n",
       "    <tr>\n",
       "      <th>44</th>\n",
       "      <td>M4N</td>\n",
       "      <td>Central Toronto</td>\n",
       "      <td>Lawrence Park</td>\n",
       "      <td>43.728</td>\n",
       "      <td>-79.3888</td>\n",
       "    </tr>\n",
       "  </tbody>\n",
       "</table>\n",
       "</div>"
      ],
      "text/plain": [
       "   Postcode          Borough                  Neighbourhood Latitude Longitude\n",
       "37      M4E     East Toronto                    The Beaches  43.6764   -79.293\n",
       "41      M4K     East Toronto    The Danforth West,Riverdale  43.6796  -79.3522\n",
       "42      M4L     East Toronto  The Beaches West,India Bazaar   43.669  -79.3156\n",
       "43      M4M     East Toronto                Studio District  43.6595  -79.3409\n",
       "44      M4N  Central Toronto                  Lawrence Park   43.728  -79.3888"
      ]
     },
     "execution_count": 12,
     "metadata": {},
     "output_type": "execute_result"
    }
   ],
   "source": [
    "df3 = df2.copy()\n",
    "df3 = df3[df2.Borough.str.contains(\"Toronto\")]\n",
    "df3.head()"
   ]
  },
  {
   "cell_type": "code",
   "execution_count": 13,
   "metadata": {},
   "outputs": [
    {
     "data": {
      "text/html": [
       "<div style=\"width:100%;\"><div style=\"position:relative;width:100%;height:0;padding-bottom:60%;\"><iframe src=\"data:text/html;charset=utf-8;base64,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\" style=\"position:absolute;width:100%;height:100%;left:0;top:0;border:none !important;\" allowfullscreen webkitallowfullscreen mozallowfullscreen></iframe></div></div>"
      ],
      "text/plain": [
       "<folium.folium.Map at 0x1a2408bac8>"
      ]
     },
     "execution_count": 13,
     "metadata": {},
     "output_type": "execute_result"
    }
   ],
   "source": [
    "toronto_map = folium.Map(location=[43.65, -79.4], zoom_start=12)\n",
    "\n",
    "X = df3['Latitude']\n",
    "Y = df3['Longitude']\n",
    "Z = np.stack((X, Y), axis=1)\n",
    "\n",
    "kmeans = KMeans(n_clusters=4, random_state=0).fit(Z)\n",
    "\n",
    "clusters = kmeans.labels_\n",
    "colors = ['red', 'green', 'blue', 'yellow']\n",
    "df3['Cluster'] = clusters\n",
    "\n",
    "for latitude, longitude, borough, cluster in zip(df3['Latitude'], df3['Longitude'], df3['Borough'], df3['Cluster']):\n",
    "    label = folium.Popup(borough, parse_html=True)\n",
    "    folium.CircleMarker(\n",
    "        [latitude, longitude],\n",
    "        radius=5,\n",
    "        popup=label,\n",
    "        color='black',\n",
    "        fill=True,\n",
    "        fill_color=colors[cluster],\n",
    "        fill_opacity=0.7).add_to(toronto_map)  \n",
    "\n",
    "toronto_map"
   ]
  },
  {
   "cell_type": "code",
   "execution_count": null,
   "metadata": {},
   "outputs": [],
   "source": []
  }
 ],
 "metadata": {
  "kernelspec": {
   "display_name": "Python 3",
   "language": "python",
   "name": "python3"
  },
  "language_info": {
   "codemirror_mode": {
    "name": "ipython",
    "version": 3
   },
   "file_extension": ".py",
   "mimetype": "text/x-python",
   "name": "python",
   "nbconvert_exporter": "python",
   "pygments_lexer": "ipython3",
   "version": "3.7.3"
  }
 },
 "nbformat": 4,
 "nbformat_minor": 2
}